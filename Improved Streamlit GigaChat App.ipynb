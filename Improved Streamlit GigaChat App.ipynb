{
  "nbformat": 4,
  "nbformat_minor": 0,
  "metadata": {
    "colab": {
      "provenance": []
    },
    "kernelspec": {
      "name": "python3",
      "display_name": "Python 3"
    },
    "language_info": {
      "name": "python"
    }
  },
  "cells": [
    {
      "cell_type": "markdown",
      "source": [
        "# Инициализация"
      ],
      "metadata": {
        "id": "nqLbLebLkfIY"
      }
    },
    {
      "cell_type": "markdown",
      "source": [
        "Установка библиотек"
      ],
      "metadata": {
        "id": "wWl0cR0Kko0T"
      }
    },
    {
      "cell_type": "code",
      "source": [
        "!pip install -q streamlit"
      ],
      "metadata": {
        "id": "8pS2qg7Q6eYN"
      },
      "execution_count": 46,
      "outputs": []
    },
    {
      "cell_type": "code",
      "source": [
        "!pip install langchain-gigachat langchain-chroma python-dotenv langchain_community"
      ],
      "metadata": {
        "colab": {
          "base_uri": "https://localhost:8080/"
        },
        "id": "22oHYbDO6giJ",
        "outputId": "9d000659-5d70-4b71-9bd9-66314fde6708",
        "collapsed": true
      },
      "execution_count": 47,
      "outputs": [
        {
          "output_type": "stream",
          "name": "stdout",
          "text": [
            "Requirement already satisfied: langchain-gigachat in /usr/local/lib/python3.12/dist-packages (0.3.12)\n",
            "Requirement already satisfied: langchain-chroma in /usr/local/lib/python3.12/dist-packages (0.2.6)\n",
            "Requirement already satisfied: python-dotenv in /usr/local/lib/python3.12/dist-packages (1.1.1)\n",
            "Requirement already satisfied: langchain_community in /usr/local/lib/python3.12/dist-packages (0.3.30)\n",
            "Requirement already satisfied: gigachat<0.2.0,>=0.1.41.post1 in /usr/local/lib/python3.12/dist-packages (from langchain-gigachat) (0.1.42.post2)\n",
            "Requirement already satisfied: langchain-core<0.4,>=0.3 in /usr/local/lib/python3.12/dist-packages (from langchain-gigachat) (0.3.77)\n",
            "Requirement already satisfied: types-requests<3.0,>=2.32 in /usr/local/lib/python3.12/dist-packages (from langchain-gigachat) (2.32.4.20250913)\n",
            "Requirement already satisfied: numpy>=1.26.0 in /usr/local/lib/python3.12/dist-packages (from langchain-chroma) (2.0.2)\n",
            "Requirement already satisfied: chromadb>=1.0.20 in /usr/local/lib/python3.12/dist-packages (from langchain-chroma) (1.1.0)\n",
            "Requirement already satisfied: langchain<2.0.0,>=0.3.27 in /usr/local/lib/python3.12/dist-packages (from langchain_community) (0.3.27)\n",
            "Requirement already satisfied: SQLAlchemy<3.0.0,>=1.4.0 in /usr/local/lib/python3.12/dist-packages (from langchain_community) (2.0.43)\n",
            "Requirement already satisfied: requests<3.0.0,>=2.32.5 in /usr/local/lib/python3.12/dist-packages (from langchain_community) (2.32.5)\n",
            "Requirement already satisfied: PyYAML<7.0.0,>=5.3.0 in /usr/local/lib/python3.12/dist-packages (from langchain_community) (6.0.3)\n",
            "Requirement already satisfied: aiohttp<4.0.0,>=3.8.3 in /usr/local/lib/python3.12/dist-packages (from langchain_community) (3.12.15)\n",
            "Requirement already satisfied: tenacity!=8.4.0,<10.0.0,>=8.1.0 in /usr/local/lib/python3.12/dist-packages (from langchain_community) (8.5.0)\n",
            "Requirement already satisfied: dataclasses-json<0.7.0,>=0.6.7 in /usr/local/lib/python3.12/dist-packages (from langchain_community) (0.6.7)\n",
            "Requirement already satisfied: pydantic-settings<3.0.0,>=2.10.1 in /usr/local/lib/python3.12/dist-packages (from langchain_community) (2.11.0)\n",
            "Requirement already satisfied: langsmith<1.0.0,>=0.1.125 in /usr/local/lib/python3.12/dist-packages (from langchain_community) (0.4.31)\n",
            "Requirement already satisfied: httpx-sse<1.0.0,>=0.4.0 in /usr/local/lib/python3.12/dist-packages (from langchain_community) (0.4.1)\n",
            "Requirement already satisfied: aiohappyeyeballs>=2.5.0 in /usr/local/lib/python3.12/dist-packages (from aiohttp<4.0.0,>=3.8.3->langchain_community) (2.6.1)\n",
            "Requirement already satisfied: aiosignal>=1.4.0 in /usr/local/lib/python3.12/dist-packages (from aiohttp<4.0.0,>=3.8.3->langchain_community) (1.4.0)\n",
            "Requirement already satisfied: attrs>=17.3.0 in /usr/local/lib/python3.12/dist-packages (from aiohttp<4.0.0,>=3.8.3->langchain_community) (25.3.0)\n",
            "Requirement already satisfied: frozenlist>=1.1.1 in /usr/local/lib/python3.12/dist-packages (from aiohttp<4.0.0,>=3.8.3->langchain_community) (1.7.0)\n",
            "Requirement already satisfied: multidict<7.0,>=4.5 in /usr/local/lib/python3.12/dist-packages (from aiohttp<4.0.0,>=3.8.3->langchain_community) (6.6.4)\n",
            "Requirement already satisfied: propcache>=0.2.0 in /usr/local/lib/python3.12/dist-packages (from aiohttp<4.0.0,>=3.8.3->langchain_community) (0.3.2)\n",
            "Requirement already satisfied: yarl<2.0,>=1.17.0 in /usr/local/lib/python3.12/dist-packages (from aiohttp<4.0.0,>=3.8.3->langchain_community) (1.20.1)\n",
            "Requirement already satisfied: build>=1.0.3 in /usr/local/lib/python3.12/dist-packages (from chromadb>=1.0.20->langchain-chroma) (1.3.0)\n",
            "Requirement already satisfied: pydantic>=1.9 in /usr/local/lib/python3.12/dist-packages (from chromadb>=1.0.20->langchain-chroma) (2.11.9)\n",
            "Requirement already satisfied: pybase64>=1.4.1 in /usr/local/lib/python3.12/dist-packages (from chromadb>=1.0.20->langchain-chroma) (1.4.2)\n",
            "Requirement already satisfied: uvicorn>=0.18.3 in /usr/local/lib/python3.12/dist-packages (from uvicorn[standard]>=0.18.3->chromadb>=1.0.20->langchain-chroma) (0.37.0)\n",
            "Requirement already satisfied: posthog<6.0.0,>=2.4.0 in /usr/local/lib/python3.12/dist-packages (from chromadb>=1.0.20->langchain-chroma) (5.4.0)\n",
            "Requirement already satisfied: typing-extensions>=4.5.0 in /usr/local/lib/python3.12/dist-packages (from chromadb>=1.0.20->langchain-chroma) (4.15.0)\n",
            "Requirement already satisfied: onnxruntime>=1.14.1 in /usr/local/lib/python3.12/dist-packages (from chromadb>=1.0.20->langchain-chroma) (1.23.0)\n",
            "Requirement already satisfied: opentelemetry-api>=1.2.0 in /usr/local/lib/python3.12/dist-packages (from chromadb>=1.0.20->langchain-chroma) (1.37.0)\n",
            "Requirement already satisfied: opentelemetry-exporter-otlp-proto-grpc>=1.2.0 in /usr/local/lib/python3.12/dist-packages (from chromadb>=1.0.20->langchain-chroma) (1.37.0)\n",
            "Requirement already satisfied: opentelemetry-sdk>=1.2.0 in /usr/local/lib/python3.12/dist-packages (from chromadb>=1.0.20->langchain-chroma) (1.37.0)\n",
            "Requirement already satisfied: tokenizers>=0.13.2 in /usr/local/lib/python3.12/dist-packages (from chromadb>=1.0.20->langchain-chroma) (0.22.1)\n",
            "Requirement already satisfied: pypika>=0.48.9 in /usr/local/lib/python3.12/dist-packages (from chromadb>=1.0.20->langchain-chroma) (0.48.9)\n",
            "Requirement already satisfied: tqdm>=4.65.0 in /usr/local/lib/python3.12/dist-packages (from chromadb>=1.0.20->langchain-chroma) (4.67.1)\n",
            "Requirement already satisfied: overrides>=7.3.1 in /usr/local/lib/python3.12/dist-packages (from chromadb>=1.0.20->langchain-chroma) (7.7.0)\n",
            "Requirement already satisfied: importlib-resources in /usr/local/lib/python3.12/dist-packages (from chromadb>=1.0.20->langchain-chroma) (6.5.2)\n",
            "Requirement already satisfied: grpcio>=1.58.0 in /usr/local/lib/python3.12/dist-packages (from chromadb>=1.0.20->langchain-chroma) (1.75.1)\n",
            "Requirement already satisfied: bcrypt>=4.0.1 in /usr/local/lib/python3.12/dist-packages (from chromadb>=1.0.20->langchain-chroma) (5.0.0)\n",
            "Requirement already satisfied: typer>=0.9.0 in /usr/local/lib/python3.12/dist-packages (from chromadb>=1.0.20->langchain-chroma) (0.19.2)\n",
            "Requirement already satisfied: kubernetes>=28.1.0 in /usr/local/lib/python3.12/dist-packages (from chromadb>=1.0.20->langchain-chroma) (34.1.0)\n",
            "Requirement already satisfied: mmh3>=4.0.1 in /usr/local/lib/python3.12/dist-packages (from chromadb>=1.0.20->langchain-chroma) (5.2.0)\n",
            "Requirement already satisfied: orjson>=3.9.12 in /usr/local/lib/python3.12/dist-packages (from chromadb>=1.0.20->langchain-chroma) (3.11.3)\n",
            "Requirement already satisfied: httpx>=0.27.0 in /usr/local/lib/python3.12/dist-packages (from chromadb>=1.0.20->langchain-chroma) (0.28.1)\n",
            "Requirement already satisfied: rich>=10.11.0 in /usr/local/lib/python3.12/dist-packages (from chromadb>=1.0.20->langchain-chroma) (13.9.4)\n",
            "Requirement already satisfied: jsonschema>=4.19.0 in /usr/local/lib/python3.12/dist-packages (from chromadb>=1.0.20->langchain-chroma) (4.25.1)\n",
            "Requirement already satisfied: marshmallow<4.0.0,>=3.18.0 in /usr/local/lib/python3.12/dist-packages (from dataclasses-json<0.7.0,>=0.6.7->langchain_community) (3.26.1)\n",
            "Requirement already satisfied: typing-inspect<1,>=0.4.0 in /usr/local/lib/python3.12/dist-packages (from dataclasses-json<0.7.0,>=0.6.7->langchain_community) (0.9.0)\n",
            "Requirement already satisfied: langchain-text-splitters<1.0.0,>=0.3.9 in /usr/local/lib/python3.12/dist-packages (from langchain<2.0.0,>=0.3.27->langchain_community) (0.3.11)\n",
            "Requirement already satisfied: jsonpatch<2.0.0,>=1.33.0 in /usr/local/lib/python3.12/dist-packages (from langchain-core<0.4,>=0.3->langchain-gigachat) (1.33)\n",
            "Requirement already satisfied: packaging<26.0.0,>=23.2.0 in /usr/local/lib/python3.12/dist-packages (from langchain-core<0.4,>=0.3->langchain-gigachat) (25.0)\n",
            "Requirement already satisfied: requests-toolbelt>=1.0.0 in /usr/local/lib/python3.12/dist-packages (from langsmith<1.0.0,>=0.1.125->langchain_community) (1.0.0)\n",
            "Requirement already satisfied: zstandard>=0.23.0 in /usr/local/lib/python3.12/dist-packages (from langsmith<1.0.0,>=0.1.125->langchain_community) (0.25.0)\n",
            "Requirement already satisfied: typing-inspection>=0.4.0 in /usr/local/lib/python3.12/dist-packages (from pydantic-settings<3.0.0,>=2.10.1->langchain_community) (0.4.2)\n",
            "Requirement already satisfied: charset_normalizer<4,>=2 in /usr/local/lib/python3.12/dist-packages (from requests<3.0.0,>=2.32.5->langchain_community) (3.4.3)\n",
            "Requirement already satisfied: idna<4,>=2.5 in /usr/local/lib/python3.12/dist-packages (from requests<3.0.0,>=2.32.5->langchain_community) (3.10)\n",
            "Requirement already satisfied: urllib3<3,>=1.21.1 in /usr/local/lib/python3.12/dist-packages (from requests<3.0.0,>=2.32.5->langchain_community) (2.3.0)\n",
            "Requirement already satisfied: certifi>=2017.4.17 in /usr/local/lib/python3.12/dist-packages (from requests<3.0.0,>=2.32.5->langchain_community) (2025.8.3)\n",
            "Requirement already satisfied: greenlet>=1 in /usr/local/lib/python3.12/dist-packages (from SQLAlchemy<3.0.0,>=1.4.0->langchain_community) (3.2.4)\n",
            "Requirement already satisfied: pyproject_hooks in /usr/local/lib/python3.12/dist-packages (from build>=1.0.3->chromadb>=1.0.20->langchain-chroma) (1.2.0)\n",
            "Requirement already satisfied: anyio in /usr/local/lib/python3.12/dist-packages (from httpx>=0.27.0->chromadb>=1.0.20->langchain-chroma) (4.11.0)\n",
            "Requirement already satisfied: httpcore==1.* in /usr/local/lib/python3.12/dist-packages (from httpx>=0.27.0->chromadb>=1.0.20->langchain-chroma) (1.0.9)\n",
            "Requirement already satisfied: h11>=0.16 in /usr/local/lib/python3.12/dist-packages (from httpcore==1.*->httpx>=0.27.0->chromadb>=1.0.20->langchain-chroma) (0.16.0)\n",
            "Requirement already satisfied: jsonpointer>=1.9 in /usr/local/lib/python3.12/dist-packages (from jsonpatch<2.0.0,>=1.33.0->langchain-core<0.4,>=0.3->langchain-gigachat) (3.0.0)\n",
            "Requirement already satisfied: jsonschema-specifications>=2023.03.6 in /usr/local/lib/python3.12/dist-packages (from jsonschema>=4.19.0->chromadb>=1.0.20->langchain-chroma) (2025.9.1)\n",
            "Requirement already satisfied: referencing>=0.28.4 in /usr/local/lib/python3.12/dist-packages (from jsonschema>=4.19.0->chromadb>=1.0.20->langchain-chroma) (0.36.2)\n",
            "Requirement already satisfied: rpds-py>=0.7.1 in /usr/local/lib/python3.12/dist-packages (from jsonschema>=4.19.0->chromadb>=1.0.20->langchain-chroma) (0.27.1)\n",
            "Requirement already satisfied: six>=1.9.0 in /usr/local/lib/python3.12/dist-packages (from kubernetes>=28.1.0->chromadb>=1.0.20->langchain-chroma) (1.17.0)\n",
            "Requirement already satisfied: python-dateutil>=2.5.3 in /usr/local/lib/python3.12/dist-packages (from kubernetes>=28.1.0->chromadb>=1.0.20->langchain-chroma) (2.9.0.post0)\n",
            "Requirement already satisfied: google-auth>=1.0.1 in /usr/local/lib/python3.12/dist-packages (from kubernetes>=28.1.0->chromadb>=1.0.20->langchain-chroma) (2.38.0)\n",
            "Requirement already satisfied: websocket-client!=0.40.0,!=0.41.*,!=0.42.*,>=0.32.0 in /usr/local/lib/python3.12/dist-packages (from kubernetes>=28.1.0->chromadb>=1.0.20->langchain-chroma) (1.8.0)\n",
            "Requirement already satisfied: requests-oauthlib in /usr/local/lib/python3.12/dist-packages (from kubernetes>=28.1.0->chromadb>=1.0.20->langchain-chroma) (2.0.0)\n",
            "Requirement already satisfied: durationpy>=0.7 in /usr/local/lib/python3.12/dist-packages (from kubernetes>=28.1.0->chromadb>=1.0.20->langchain-chroma) (0.10)\n",
            "Requirement already satisfied: coloredlogs in /usr/local/lib/python3.12/dist-packages (from onnxruntime>=1.14.1->chromadb>=1.0.20->langchain-chroma) (15.0.1)\n",
            "Requirement already satisfied: flatbuffers in /usr/local/lib/python3.12/dist-packages (from onnxruntime>=1.14.1->chromadb>=1.0.20->langchain-chroma) (25.9.23)\n",
            "Requirement already satisfied: protobuf in /usr/local/lib/python3.12/dist-packages (from onnxruntime>=1.14.1->chromadb>=1.0.20->langchain-chroma) (5.29.5)\n",
            "Requirement already satisfied: sympy in /usr/local/lib/python3.12/dist-packages (from onnxruntime>=1.14.1->chromadb>=1.0.20->langchain-chroma) (1.13.3)\n",
            "Requirement already satisfied: importlib-metadata<8.8.0,>=6.0 in /usr/local/lib/python3.12/dist-packages (from opentelemetry-api>=1.2.0->chromadb>=1.0.20->langchain-chroma) (8.7.0)\n",
            "Requirement already satisfied: googleapis-common-protos~=1.57 in /usr/local/lib/python3.12/dist-packages (from opentelemetry-exporter-otlp-proto-grpc>=1.2.0->chromadb>=1.0.20->langchain-chroma) (1.70.0)\n",
            "Requirement already satisfied: opentelemetry-exporter-otlp-proto-common==1.37.0 in /usr/local/lib/python3.12/dist-packages (from opentelemetry-exporter-otlp-proto-grpc>=1.2.0->chromadb>=1.0.20->langchain-chroma) (1.37.0)\n",
            "Requirement already satisfied: opentelemetry-proto==1.37.0 in /usr/local/lib/python3.12/dist-packages (from opentelemetry-exporter-otlp-proto-grpc>=1.2.0->chromadb>=1.0.20->langchain-chroma) (1.37.0)\n",
            "Requirement already satisfied: opentelemetry-semantic-conventions==0.58b0 in /usr/local/lib/python3.12/dist-packages (from opentelemetry-sdk>=1.2.0->chromadb>=1.0.20->langchain-chroma) (0.58b0)\n",
            "Requirement already satisfied: backoff>=1.10.0 in /usr/local/lib/python3.12/dist-packages (from posthog<6.0.0,>=2.4.0->chromadb>=1.0.20->langchain-chroma) (2.2.1)\n",
            "Requirement already satisfied: distro>=1.5.0 in /usr/local/lib/python3.12/dist-packages (from posthog<6.0.0,>=2.4.0->chromadb>=1.0.20->langchain-chroma) (1.9.0)\n",
            "Requirement already satisfied: annotated-types>=0.6.0 in /usr/local/lib/python3.12/dist-packages (from pydantic>=1.9->chromadb>=1.0.20->langchain-chroma) (0.7.0)\n",
            "Requirement already satisfied: pydantic-core==2.33.2 in /usr/local/lib/python3.12/dist-packages (from pydantic>=1.9->chromadb>=1.0.20->langchain-chroma) (2.33.2)\n",
            "Requirement already satisfied: markdown-it-py>=2.2.0 in /usr/local/lib/python3.12/dist-packages (from rich>=10.11.0->chromadb>=1.0.20->langchain-chroma) (4.0.0)\n",
            "Requirement already satisfied: pygments<3.0.0,>=2.13.0 in /usr/local/lib/python3.12/dist-packages (from rich>=10.11.0->chromadb>=1.0.20->langchain-chroma) (2.19.2)\n",
            "Requirement already satisfied: huggingface-hub<2.0,>=0.16.4 in /usr/local/lib/python3.12/dist-packages (from tokenizers>=0.13.2->chromadb>=1.0.20->langchain-chroma) (0.35.3)\n",
            "Requirement already satisfied: click>=8.0.0 in /usr/local/lib/python3.12/dist-packages (from typer>=0.9.0->chromadb>=1.0.20->langchain-chroma) (8.3.0)\n",
            "Requirement already satisfied: shellingham>=1.3.0 in /usr/local/lib/python3.12/dist-packages (from typer>=0.9.0->chromadb>=1.0.20->langchain-chroma) (1.5.4)\n",
            "Requirement already satisfied: mypy-extensions>=0.3.0 in /usr/local/lib/python3.12/dist-packages (from typing-inspect<1,>=0.4.0->dataclasses-json<0.7.0,>=0.6.7->langchain_community) (1.1.0)\n",
            "Requirement already satisfied: httptools>=0.6.3 in /usr/local/lib/python3.12/dist-packages (from uvicorn[standard]>=0.18.3->chromadb>=1.0.20->langchain-chroma) (0.6.4)\n",
            "Requirement already satisfied: uvloop>=0.15.1 in /usr/local/lib/python3.12/dist-packages (from uvicorn[standard]>=0.18.3->chromadb>=1.0.20->langchain-chroma) (0.21.0)\n",
            "Requirement already satisfied: watchfiles>=0.13 in /usr/local/lib/python3.12/dist-packages (from uvicorn[standard]>=0.18.3->chromadb>=1.0.20->langchain-chroma) (1.1.0)\n",
            "Requirement already satisfied: websockets>=10.4 in /usr/local/lib/python3.12/dist-packages (from uvicorn[standard]>=0.18.3->chromadb>=1.0.20->langchain-chroma) (15.0.1)\n",
            "Requirement already satisfied: cachetools<6.0,>=2.0.0 in /usr/local/lib/python3.12/dist-packages (from google-auth>=1.0.1->kubernetes>=28.1.0->chromadb>=1.0.20->langchain-chroma) (5.5.2)\n",
            "Requirement already satisfied: pyasn1-modules>=0.2.1 in /usr/local/lib/python3.12/dist-packages (from google-auth>=1.0.1->kubernetes>=28.1.0->chromadb>=1.0.20->langchain-chroma) (0.4.2)\n",
            "Requirement already satisfied: rsa<5,>=3.1.4 in /usr/local/lib/python3.12/dist-packages (from google-auth>=1.0.1->kubernetes>=28.1.0->chromadb>=1.0.20->langchain-chroma) (4.9.1)\n",
            "Requirement already satisfied: filelock in /usr/local/lib/python3.12/dist-packages (from huggingface-hub<2.0,>=0.16.4->tokenizers>=0.13.2->chromadb>=1.0.20->langchain-chroma) (3.19.1)\n",
            "Requirement already satisfied: fsspec>=2023.5.0 in /usr/local/lib/python3.12/dist-packages (from huggingface-hub<2.0,>=0.16.4->tokenizers>=0.13.2->chromadb>=1.0.20->langchain-chroma) (2025.3.0)\n",
            "Requirement already satisfied: hf-xet<2.0.0,>=1.1.3 in /usr/local/lib/python3.12/dist-packages (from huggingface-hub<2.0,>=0.16.4->tokenizers>=0.13.2->chromadb>=1.0.20->langchain-chroma) (1.1.10)\n",
            "Requirement already satisfied: zipp>=3.20 in /usr/local/lib/python3.12/dist-packages (from importlib-metadata<8.8.0,>=6.0->opentelemetry-api>=1.2.0->chromadb>=1.0.20->langchain-chroma) (3.23.0)\n",
            "Requirement already satisfied: mdurl~=0.1 in /usr/local/lib/python3.12/dist-packages (from markdown-it-py>=2.2.0->rich>=10.11.0->chromadb>=1.0.20->langchain-chroma) (0.1.2)\n",
            "Requirement already satisfied: sniffio>=1.1 in /usr/local/lib/python3.12/dist-packages (from anyio->httpx>=0.27.0->chromadb>=1.0.20->langchain-chroma) (1.3.1)\n",
            "Requirement already satisfied: humanfriendly>=9.1 in /usr/local/lib/python3.12/dist-packages (from coloredlogs->onnxruntime>=1.14.1->chromadb>=1.0.20->langchain-chroma) (10.0)\n",
            "Requirement already satisfied: oauthlib>=3.0.0 in /usr/local/lib/python3.12/dist-packages (from requests-oauthlib->kubernetes>=28.1.0->chromadb>=1.0.20->langchain-chroma) (3.3.1)\n",
            "Requirement already satisfied: mpmath<1.4,>=1.1.0 in /usr/local/lib/python3.12/dist-packages (from sympy->onnxruntime>=1.14.1->chromadb>=1.0.20->langchain-chroma) (1.3.0)\n",
            "Requirement already satisfied: pyasn1<0.7.0,>=0.6.1 in /usr/local/lib/python3.12/dist-packages (from pyasn1-modules>=0.2.1->google-auth>=1.0.1->kubernetes>=28.1.0->chromadb>=1.0.20->langchain-chroma) (0.6.1)\n"
          ]
        }
      ]
    },
    {
      "cell_type": "markdown",
      "source": [
        "Создание приложения"
      ],
      "metadata": {
        "id": "p91ig-svkuUm"
      }
    },
    {
      "cell_type": "code",
      "source": [
        "!echo > app.py"
      ],
      "metadata": {
        "id": "CUc4wENo6k0e"
      },
      "execution_count": 48,
      "outputs": []
    },
    {
      "cell_type": "code",
      "source": [
        "import streamlit as st"
      ],
      "metadata": {
        "id": "pIgdiYiyoNk1"
      },
      "execution_count": 49,
      "outputs": []
    },
    {
      "cell_type": "code",
      "source": [
        "from google.colab import files\n",
        "from google.colab import drive\n",
        "files.view(\"app.py\")"
      ],
      "metadata": {
        "colab": {
          "base_uri": "https://localhost:8080/",
          "height": 17
        },
        "id": "CBNca6go6nHY",
        "outputId": "ece35a2c-acda-4cb9-8156-236082d63a6f"
      },
      "execution_count": 50,
      "outputs": [
        {
          "output_type": "display_data",
          "data": {
            "text/plain": [
              "<IPython.core.display.Javascript object>"
            ],
            "application/javascript": [
              "\n",
              "      ((filepath) => {{\n",
              "        if (!google.colab.kernel.accessAllowed) {{\n",
              "          return;\n",
              "        }}\n",
              "        google.colab.files.view(filepath);\n",
              "      }})(\"/content/app.py\")"
            ]
          },
          "metadata": {}
        }
      ]
    },
    {
      "cell_type": "markdown",
      "source": [
        "# Развертывание приложения с помощью ngrok"
      ],
      "metadata": {
        "id": "o9A1EqCMlAy4"
      }
    },
    {
      "cell_type": "markdown",
      "source": [
        "Установка библиотек"
      ],
      "metadata": {
        "id": "ojAKCdEulGt9"
      }
    },
    {
      "cell_type": "code",
      "source": [
        "!pip install pyngrok"
      ],
      "metadata": {
        "id": "pOEtUxGhlV3f",
        "colab": {
          "base_uri": "https://localhost:8080/"
        },
        "outputId": "7461d8a0-f5a2-4e8b-8666-dbc02d2531aa"
      },
      "execution_count": 51,
      "outputs": [
        {
          "output_type": "stream",
          "name": "stdout",
          "text": [
            "Requirement already satisfied: pyngrok in /usr/local/lib/python3.12/dist-packages (7.4.0)\n",
            "Requirement already satisfied: PyYAML>=5.1 in /usr/local/lib/python3.12/dist-packages (from pyngrok) (6.0.3)\n"
          ]
        }
      ]
    },
    {
      "cell_type": "code",
      "source": [
        "import os\n",
        "from threading import Thread\n",
        "from pyngrok import ngrok"
      ],
      "metadata": {
        "id": "A5qqzrKt7Iwt"
      },
      "execution_count": 52,
      "outputs": []
    },
    {
      "cell_type": "markdown",
      "source": [
        "Аутентификация"
      ],
      "metadata": {
        "id": "BemMdXAGlP7f"
      }
    },
    {
      "cell_type": "code",
      "source": [
        "from google.colab import userdata\n",
        "\n",
        "ngrok_key = userdata.get('ngrok_key')"
      ],
      "metadata": {
        "id": "sUq1qmfI7h79"
      },
      "execution_count": 64,
      "outputs": []
    },
    {
      "cell_type": "code",
      "source": [
        "ngrok.set_auth_token(ngrok_key)"
      ],
      "metadata": {
        "id": "4ok3fGpU7Ng7"
      },
      "execution_count": 65,
      "outputs": []
    },
    {
      "cell_type": "markdown",
      "source": [
        "Функция запуска"
      ],
      "metadata": {
        "id": "udybIm2KldYE"
      }
    },
    {
      "cell_type": "code",
      "source": [
        "def run_streamlit():\n",
        "    os.system('streamlit run /content/app.py --server.port 8501') # 8501 — streamlit"
      ],
      "metadata": {
        "id": "dXaRwUQY7N77"
      },
      "execution_count": 70,
      "outputs": []
    },
    {
      "cell_type": "markdown",
      "source": [
        "Поток для запуска приложения"
      ],
      "metadata": {
        "id": "sGudtmbOlnQK"
      }
    },
    {
      "cell_type": "code",
      "source": [
        "thread = Thread(target=run_streamlit)\n",
        "thread.start()"
      ],
      "metadata": {
        "id": "g8iC2R1c7Qfb"
      },
      "execution_count": 71,
      "outputs": []
    },
    {
      "cell_type": "markdown",
      "source": [
        "Запуск приложения"
      ],
      "metadata": {
        "id": "TYsMhLgzlqfE"
      }
    },
    {
      "cell_type": "code",
      "source": [
        "public_url = ngrok.connect(addr='8501', proto='http', bind_tls=True)\n",
        "print('Ваше приложение Streamlit доступно по адресу:', public_url)"
      ],
      "metadata": {
        "colab": {
          "base_uri": "https://localhost:8080/"
        },
        "id": "iWHUSdsE7UE_",
        "outputId": "48f6de48-a4d5-4aec-bb9f-bbef1d758469"
      },
      "execution_count": 72,
      "outputs": [
        {
          "output_type": "stream",
          "name": "stdout",
          "text": [
            "Ваше приложение Streamlit доступно по адресу: NgrokTunnel: \"https://761c21c638f3.ngrok-free.app\" -> \"http://localhost:8501\"\n"
          ]
        }
      ]
    },
    {
      "cell_type": "markdown",
      "source": [
        "Остановка приложения"
      ],
      "metadata": {
        "id": "i0mwqAoLlsQU"
      }
    },
    {
      "cell_type": "code",
      "source": [
        "ngrok.kill()"
      ],
      "metadata": {
        "id": "LxzZzDjY7Vtm"
      },
      "execution_count": 69,
      "outputs": []
    },
    {
      "cell_type": "markdown",
      "source": [
        "# Оформление приложения"
      ],
      "metadata": {
        "id": "5GeJOr-3nwJ0"
      }
    },
    {
      "cell_type": "markdown",
      "source": [
        "## Добавление боковой панели для ввода API-ключа"
      ],
      "metadata": {
        "id": "1K_UQ8GEn3nL"
      }
    },
    {
      "cell_type": "markdown",
      "source": [
        "Добавим в приложение боковую панель с полем для ввода API-ключа."
      ],
      "metadata": {
        "id": "XcjHLHHXpVo8"
      }
    },
    {
      "cell_type": "code",
      "source": [
        "with st.sidebar:\n",
        "    st.header(\"Настройки подключения\")\n",
        "\n",
        "    # Поле для ввода API-ключа\n",
        "    api_input = st.text_input(\n",
        "        \"Введите API-ключ GigaChat:\",  # Текст-подсказка\n",
        "        type=\"password\",  # Прячем введённые символы\n",
        "        key=\"api_key_input\"  # Уникальный ключ для идентификации поля\n",
        "    )"
      ],
      "metadata": {
        "id": "pRlvBUt7ou5U"
      },
      "execution_count": null,
      "outputs": []
    },
    {
      "cell_type": "markdown",
      "source": [
        "Добавим кнопку для подключения к GigaChat API. Если API-ключ введён, мы будем пробовать подключиться к сервису и проверять его на работоспособность."
      ],
      "metadata": {
        "id": "uYLYxfDSpPGz"
      }
    },
    {
      "cell_type": "code",
      "source": [
        "    # Кнопка для подключения\n",
        "    if st.button(\"Подключиться к API\"):\n",
        "        if api_input:\n",
        "            st.session_state.api_key = api_input\n",
        "            try:\n",
        "                # Тестовое подключение\n",
        "                with GigaChat(credentials=api_input, verify_ssl_certs=False) as giga:\n",
        "                    st.session_state.api_connected = True\n",
        "                    st.success(\"✅ Подключение успешно!\")\n",
        "            except Exception as e:\n",
        "                st.error(f\"❌ Ошибка подключения: {str(e)}\")\n",
        "                st.session_state.api_connected = False\n",
        "        else:\n",
        "            st.error(\"⚠️ Введите API-ключ\")"
      ],
      "metadata": {
        "id": "qspTY06ko0R0"
      },
      "execution_count": null,
      "outputs": []
    },
    {
      "cell_type": "markdown",
      "source": [
        "## Инициализация состояния сессии и подключение к GigaChat API"
      ],
      "metadata": {
        "id": "Ql4iPaIUpgwW"
      }
    },
    {
      "cell_type": "markdown",
      "source": [
        "st.session_state позволяет хранить информацию между различными запросами и сохранять состояние сессии."
      ],
      "metadata": {
        "id": "sxiHEjS2pmpJ"
      }
    },
    {
      "cell_type": "code",
      "source": [
        "# Инициализация состояний сессии\n",
        "if \"messages\" not in st.session_state:\n",
        "    st.session_state.messages = []\n",
        "\n",
        "if \"api_key\" not in st.session_state:\n",
        "    st.session_state.api_key = \"\"  # Изначально ключ пустой\n",
        "\n",
        "if \"api_connected\" not in st.session_state:\n",
        "    st.session_state.api_connected = False  # Изначально не подключено"
      ],
      "metadata": {
        "id": "lIe1mRUGpzAU"
      },
      "execution_count": null,
      "outputs": []
    },
    {
      "cell_type": "markdown",
      "source": [
        "Обработка ошибок при подключении"
      ],
      "metadata": {
        "id": "FviJEGo4p2gN"
      }
    },
    {
      "cell_type": "code",
      "source": [
        "try:\n",
        "    with GigaChat(credentials=st.session_state.api_key, verify_ssl_certs=False) as giga:\n",
        "        st.session_state.api_connected = True\n",
        "        st.success(\"✅ Подключение успешно!\")\n",
        "except Exception as e:\n",
        "    st.error(f\"❌ Ошибка подключения: {str(e)}\")\n",
        "    st.session_state.api_connected = False"
      ],
      "metadata": {
        "id": "2x5UHrs8p6Bf"
      },
      "execution_count": null,
      "outputs": []
    },
    {
      "cell_type": "markdown",
      "source": [
        "## Разработка интерфейса чата"
      ],
      "metadata": {
        "id": "QcjWM4V7qpiR"
      }
    },
    {
      "cell_type": "markdown",
      "source": [
        "Создадим контейнер, который будет отображать историю сообщений чата."
      ],
      "metadata": {
        "id": "bzvxjUviquCc"
      }
    },
    {
      "cell_type": "code",
      "source": [
        "st.header(\"💬 Чат с GigaChat\")\n",
        "\n",
        "# Отображение истории сообщений\n",
        "chat_container = st.container()\n",
        "with chat_container:\n",
        "    for message in st.session_state.messages:\n",
        "        with st.chat_message(message[\"role\"]):\n",
        "            st.markdown(message[\"content\"])"
      ],
      "metadata": {
        "id": "Zt0csxpsqumQ"
      },
      "execution_count": null,
      "outputs": []
    },
    {
      "cell_type": "markdown",
      "source": [
        "## Функция для генерации ответа от GigaChat API"
      ],
      "metadata": {
        "id": "YVFCTdLfqxsL"
      }
    },
    {
      "cell_type": "markdown",
      "source": [
        "Функция генерации ответа"
      ],
      "metadata": {
        "id": "E4HSM9Urq5-F"
      }
    },
    {
      "cell_type": "code",
      "source": [
        "def generate_response(prompt):\n",
        "    if not st.session_state.api_key:\n",
        "        return \"⚠️ Пожалуйста, введите API-ключ в боковой панели и нажмите 'Подключиться к API'\"\n",
        "\n",
        "    try:\n",
        "        with GigaChat(credentials=st.session_state.api_key, verify_ssl_certs=False) as giga:\n",
        "            response = giga.chat(prompt)\n",
        "            return response.choices[0].message.content\n",
        "    except Exception as e:\n",
        "        return f\"❌ Произошла ошибка: {str(e)}\""
      ],
      "metadata": {
        "id": "LuKffeRiq7RI"
      },
      "execution_count": null,
      "outputs": []
    },
    {
      "cell_type": "markdown",
      "source": [
        "## Ввод пользователя и отображение ответа"
      ],
      "metadata": {
        "id": "GSjs0qjFrD-6"
      }
    },
    {
      "cell_type": "markdown",
      "source": [
        "Создадим поле ввода для пользователя, где он будет вводить свой запрос."
      ],
      "metadata": {
        "id": "M7w7DIQ5rIXP"
      }
    },
    {
      "cell_type": "code",
      "source": [
        "user_input = st.chat_input(\"Введите ваш вопрос...\")"
      ],
      "metadata": {
        "id": "xVhPt4wqrJjH"
      },
      "execution_count": null,
      "outputs": []
    },
    {
      "cell_type": "markdown",
      "source": [
        "Обработка ввода и вывод сообщений"
      ],
      "metadata": {
        "id": "i9YKdWCXrNJ6"
      }
    },
    {
      "cell_type": "code",
      "source": [
        "if user_input:\n",
        "    # Добавляем сообщение пользователя в историю\n",
        "    st.session_state.messages.append({\"role\": \"user\", \"content\": user_input})\n",
        "\n",
        "    # Отображаем сообщение пользователя\n",
        "    with st.chat_message(\"user\"):\n",
        "        st.markdown(user_input)\n",
        "\n",
        "    # Генерируем и отображаем ответ\n",
        "    with st.chat_message(\"assistant\"):\n",
        "        if st.session_state.api_connected:\n",
        "            message_placeholder = st.empty()\n",
        "            message_placeholder.markdown(\"🔄 Генерация ответа...\")\n",
        "            response = generate_response(user_input)\n",
        "            message_placeholder.markdown(response)\n",
        "            # Добавляем ответ в историю\n",
        "            st.session_state.messages.append({\"role\": \"assistant\", \"content\": response})\n",
        "        else:\n",
        "            st.markdown(\"⚠️ Сначала подключитесь к API GigaChat\")"
      ],
      "metadata": {
        "id": "4NCb5mwirOz_"
      },
      "execution_count": null,
      "outputs": []
    },
    {
      "cell_type": "markdown",
      "source": [
        "### Информационная панель и описание"
      ],
      "metadata": {
        "id": "MEmvWyQlrVXp"
      }
    },
    {
      "cell_type": "markdown",
      "source": [
        "Добавим информацию о проекте внизу страницы."
      ],
      "metadata": {
        "id": "JLnheeJjrYkE"
      }
    },
    {
      "cell_type": "code",
      "source": [
        "st.markdown(\"---\")\n",
        "st.caption(\"Лабораторная работа с использованием GigaChat API\")"
      ],
      "metadata": {
        "id": "gbDwKcwOraWb"
      },
      "execution_count": null,
      "outputs": []
    },
    {
      "cell_type": "markdown",
      "source": [
        "### Стилевое оформление"
      ],
      "metadata": {
        "id": "iKTV8SqYrbpj"
      }
    },
    {
      "cell_type": "markdown",
      "source": [
        "Добавим стили, чтобы улучшить визуальное восприятие интерфейса."
      ],
      "metadata": {
        "id": "UMI6Jv8crd58"
      }
    },
    {
      "cell_type": "code",
      "source": [
        "# Стилизация\n",
        "st.markdown(\"\"\"\n",
        "<style>\n",
        "    /* Основной фон страницы */\n",
        "    .main {\n",
        "        background-color: #f5f7ff;  /* Светлый голубой цвет */\n",
        "        padding: 20px;  /* Отступы вокруг контента */\n",
        "    }\n",
        "\n",
        "    /* Контейнер для чата с белым фоном и закругленными углами */\n",
        "    .chat-container {\n",
        "        background-color: white;  /* Белый фон */\n",
        "        border-radius: 10px;  /* Закругленные углы */\n",
        "        padding: 20px;  /* Отступы внутри контейнера */\n",
        "        box-shadow: 0 4px 6px rgba(0,0,0,0.1);  /* Легкая тень для объема */\n",
        "        margin-top: 20px;  /* Отступ сверху */\n",
        "    }\n",
        "\n",
        "    /* Стилизация кнопки с фоном и белым текстом */\n",
        "    .stButton button {\n",
        "        background-color: #4169E1;  /* Синий фон кнопки */\n",
        "        color: white;  /* Белый цвет текста */\n",
        "        font-weight: bold;  /* Жирный шрифт */\n",
        "    }\n",
        "\n",
        "    /* Стили для предупреждений, например, ошибки подключения API */\n",
        "    .api-warning {\n",
        "        color: #ff4b4b;  /* Красный цвет для ошибок */\n",
        "        font-weight: bold;  /* Жирный шрифт */\n",
        "    }\n",
        "\n",
        "    /* Отступ для поля ввода чата */\n",
        "    .chat-input {\n",
        "        margin-top: 20px;  /* Отступ сверху */\n",
        "    }\n",
        "</style>\n",
        "\"\"\", unsafe_allow_html=True)"
      ],
      "metadata": {
        "id": "HSSvxeUErhVD"
      },
      "execution_count": null,
      "outputs": []
    },
    {
      "cell_type": "markdown",
      "source": [
        "## Объединим с прошлой работой"
      ],
      "metadata": {
        "id": "cpBcCgEnKgc1"
      }
    },
    {
      "cell_type": "markdown",
      "source": [
        "И получим:"
      ],
      "metadata": {
        "id": "PWpYRxTNKkbD"
      }
    },
    {
      "cell_type": "code",
      "source": [
        "import os\n",
        "import streamlit as st\n",
        "from langchain_gigachat import GigaChat\n",
        "from langchain_core.messages import HumanMessage, SystemMessage\n",
        "\n",
        "PRE_PROMPT = \"Ты выступаешь в роли ИИ ассистента. Подробно отвечай на вопросы, чтобы понятно было даже школьнику. Избегай опасных тем ответом: 'Тебе ещё рано об этом знать!'\"  # базовый промпт\n",
        "ROLE = 'Ассистент'  # Измените это на свою роль\n",
        "\n",
        "MODELS = {  # выбор моделей\n",
        "    'GigaChat Light': 'GigaChat Light',\n",
        "    'GigaChat Pro': 'GigaChat Pro',\n",
        "    'GigaChat Max': 'GigaChat Max',\n",
        "}\n",
        "\n",
        "# Установка начальной конфигурации страницы\n",
        "st.set_page_config(\n",
        "    page_title=\"GigaApp\",         # Устанавливает заголовок страницы.\n",
        "    page_icon=\":robot_face:\",     # Устанавливает иконку страницы.\n",
        "    layout=\"wide\"                 # Устанавливает макет страницы — широкий формат\n",
        ")\n",
        "\n",
        "# Стилизация\n",
        "st.markdown(\"\"\"\n",
        "<style>\n",
        "    /* Основной фон страницы */\n",
        "    .main {\n",
        "        background-color: #f5f7ff;  /* Светлый голубой цвет */\n",
        "        padding: 20px;  /* Отступы вокруг контента */\n",
        "    }\n",
        "\n",
        "    /* Контейнер для чата с белым фоном и закругленными углами */\n",
        "    .chat-container {\n",
        "        background-color: white;  /* Белый фон */\n",
        "        border-radius: 10px;  /* Закругленные углы */\n",
        "        padding: 20px;  /* Отступы внутри контейнера */\n",
        "        box-shadow: 0 4px 6px rgba(0,0,0,0.1);  /* Легкая тень для объема */\n",
        "        margin-top: 20px;  /* Отступ сверху */\n",
        "    }\n",
        "\n",
        "    /* Стилизация кнопки с фоном и белым текстом */\n",
        "    .stButton button {\n",
        "        background-color: #4169E1;  /* Синий фон кнопки */\n",
        "        color: white;  /* Белый цвет текста */\n",
        "        font-weight: bold;  /* Жирный шрифт */\n",
        "    }\n",
        "\n",
        "    /* Стили для предупреждений, например, ошибки подключения API */\n",
        "    .api-warning {\n",
        "        color: #ff4b4b;  /* Красный цвет для ошибок */\n",
        "        font-weight: bold;  /* Жирный шрифт */\n",
        "    }\n",
        "\n",
        "    /* Отступ для поля ввода чата */\n",
        "    .chat-input {\n",
        "        margin-top: 20px;  /* Отступ сверху */\n",
        "    }\n",
        "</style>\n",
        "\"\"\", unsafe_allow_html=True)\n",
        "\n",
        "def setup_session_state():\n",
        "    \"\"\"Настройка начального состояния сессии\"\"\"\n",
        "    if \"api_key\" not in st.session_state:\n",
        "        st.session_state.api_key = \"\"  # Изначально ключ пустой\n",
        "    if \"api_connected\" not in st.session_state:\n",
        "        st.session_state.api_connected = False  # Изначально не подключено\n",
        "    if \"chat_dialogue\" not in st.session_state:\n",
        "        st.session_state.chat_dialogue = []\n",
        "    if \"prompt\" not in st.session_state:\n",
        "        st.session_state.prompt = PRE_PROMPT\n",
        "    if \"role\" not in st.session_state:\n",
        "        st.session_state.role = ROLE\n",
        "    if \"selected_model\" not in st.session_state:\n",
        "        st.session_state.selected_model = 'GigaChat Light'\n",
        "    if \"giga\" not in st.session_state:\n",
        "        st.session_state.giga = None\n",
        "\n",
        "def render_settings():\n",
        "    with st.sidebar:\n",
        "        st.header(\"Настройки подключения\")\n",
        "\n",
        "        # Поле для ввода API-ключа\n",
        "        api_input = st.text_input(\n",
        "            \"Введите API-ключ GigaChat:\",  # Текст-подсказка\n",
        "            type=\"password\",  # Прячем введённые символы\n",
        "            key=\"api_key_input\"  # Уникальный ключ для идентификации поля\n",
        "        )\n",
        "\n",
        "        # Кнопка для подключения\n",
        "        if st.button(\"Подключиться к API\"):\n",
        "            if api_input:\n",
        "                st.session_state.api_key = api_input\n",
        "                try:\n",
        "                    st.session_state.giga = GigaChat(credentials=api_input, verify_ssl_certs=False)\n",
        "                    st.session_state.api_connected = True\n",
        "                    st.success(\"✅ Подключение успешно!\")\n",
        "                except Exception as e:\n",
        "                    st.error(f\"❌ Ошибка подключения: {str(e)}\")\n",
        "                    st.session_state.api_connected = False\n",
        "            else:\n",
        "                st.error(\"⚠️ Введите API-ключ\")\n",
        "\n",
        "        st.header(\"Настройки ассистента\")\n",
        "        st.session_state.role = st.sidebar.text_input(\"Роль ассистента\", value=st.session_state.role)\n",
        "        st.session_state.prompt = st.sidebar.text_area(\"Промпт\", value=st.session_state.prompt)\n",
        "        st.session_state.selected_model = st.sidebar.selectbox(\"Выбор модели\", list(MODELS.keys()))\n",
        "\n",
        "def render_chat_history():\n",
        "    \"\"\"Отображение истории чата\"\"\"\n",
        "    st.header(\"💬 Чат с GigaChat\")\n",
        "\n",
        "    # Отображение истории сообщений\n",
        "    chat_container = st.container()\n",
        "    with chat_container:\n",
        "        for message in st.session_state.chat_dialogue:\n",
        "            with st.chat_message(message[\"role\"]):\n",
        "                st.markdown(message[\"content\"])\n",
        "\n",
        "def generate_response(messages):\n",
        "    if not st.session_state.api_key:\n",
        "        return \"⚠️ Пожалуйста, введите API-ключ в боковой панели и нажмите 'Подключиться к API'\"\n",
        "    if not st.session_state.giga:\n",
        "        return \"⚠️ Подключение не установлено\"\n",
        "\n",
        "    try:\n",
        "        response = st.session_state.giga.invoke(messages)\n",
        "        return response.content\n",
        "    except Exception as e:\n",
        "        return f\"❌ Произошла ошибка: {str(e)}\"\n",
        "\n",
        "def handle_user_input():\n",
        "    \"\"\"Обработка ввода пользователя\"\"\"\n",
        "    user_input = st.chat_input(\"Введите ваш вопрос:\")\n",
        "    if user_input:\n",
        "        # Добавляем сообщение пользователя в историю\n",
        "        st.session_state.chat_dialogue.append({\n",
        "            \"role\": \"user\",\n",
        "            \"content\": user_input\n",
        "        })\n",
        "\n",
        "        # Отображаем сообщение пользователя\n",
        "        with st.chat_message(\"user\"):\n",
        "            st.markdown(user_input)\n",
        "\n",
        "        # Генерируем ответ ассистента\n",
        "        generate_assistant_response(user_input)\n",
        "\n",
        "def generate_assistant_response(user_input):\n",
        "    \"\"\"Генерация ответа ассистента\"\"\"\n",
        "    # Собираем весь диалог в одну строку\n",
        "    dialogue = \"\\n\".join([f\"{msg['role'].capitalize()}: {msg['content']}\" for msg in st.session_state['chat_dialogue']])\n",
        "    dialogue += \"\\nAssistant: \"\n",
        "\n",
        "    messages = [\n",
        "        SystemMessage(content=st.session_state.prompt),\n",
        "        HumanMessage(content=dialogue),\n",
        "    ]\n",
        "\n",
        "    with st.chat_message(\"assistant\"):\n",
        "        response_placeholder = st.empty()\n",
        "        response_placeholder.markdown(\"⏳ Думаю...\")\n",
        "\n",
        "        # Получаем ответ\n",
        "        full_response = generate_response(messages)\n",
        "\n",
        "        # Обновляем ответ\n",
        "        response_placeholder.markdown(full_response)\n",
        "\n",
        "    # Сохраняем ответ в историю\n",
        "    st.session_state.chat_dialogue.append({\n",
        "        \"role\": \"assistant\",\n",
        "        \"content\": full_response\n",
        "    })\n",
        "\n",
        "setup_session_state()     # настройка состояния сессии\n",
        "render_settings()         # рендеринг боковой панели\n",
        "render_chat_history()     # история чата\n",
        "handle_user_input()       # пользовательский ввод\n",
        "\n",
        "st.markdown(\"---\")\n",
        "st.caption(\"Лабораторная работа с использованием GigaChat API\")"
      ],
      "metadata": {
        "id": "gbVgtlrCKlWS"
      },
      "execution_count": null,
      "outputs": []
    },
    {
      "cell_type": "markdown",
      "source": [
        "#Итоги лабораторной работы\n",
        "\n",
        "В результате выполнения лабораторной работы мы создали полноценное приложение на Streamlit с интеграцией GigaChat API. В этом приложении реализован функционал чата, где пользователи могут вводить свои запросы и получать ответы от модели GigaChat.\n",
        "\n",
        "Мы настроили подключение через API-ключ, обработку ошибок, а также хранение истории сообщений в сессии.\n",
        "\n",
        "Теперь вы можете протестировать ваше приложение, пополняя и обновляя чат с различными вопросами и получая ответы от GigaChat."
      ],
      "metadata": {
        "id": "UY4_D0iYW4jG"
      }
    }
  ]
}